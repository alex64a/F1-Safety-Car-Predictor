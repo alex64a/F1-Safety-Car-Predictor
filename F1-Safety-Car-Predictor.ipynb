{
 "cells": [
  {
   "cell_type": "markdown",
   "id": "b3a2a401-a9dd-4bf7-b853-966d8b8aac65",
   "metadata": {},
   "source": [
    "# F1 Safety Car Predictor"
   ]
  },
  {
   "cell_type": "markdown",
   "id": "86e278c5-cc06-4bbd-b50b-a41dc84d0ec6",
   "metadata": {},
   "source": [
    "## Authors: Petar Stamenković, Aleksa Mitrovčan"
   ]
  },
  {
   "cell_type": "markdown",
   "id": "a4483406-afd8-4e8d-a6e3-0c7098903678",
   "metadata": {},
   "source": [
    "### Data Set"
   ]
  },
  {
   "cell_type": "code",
   "execution_count": 14,
   "id": "95a3e3da-1a72-4e8f-bf0b-43512577231a",
   "metadata": {},
   "outputs": [
    {
     "data": {
      "text/html": [
       "<div>\n",
       "<style scoped>\n",
       "    .dataframe tbody tr th:only-of-type {\n",
       "        vertical-align: middle;\n",
       "    }\n",
       "\n",
       "    .dataframe tbody tr th {\n",
       "        vertical-align: top;\n",
       "    }\n",
       "\n",
       "    .dataframe thead th {\n",
       "        text-align: right;\n",
       "    }\n",
       "</style>\n",
       "<table border=\"1\" class=\"dataframe\">\n",
       "  <thead>\n",
       "    <tr style=\"text-align: right;\">\n",
       "      <th></th>\n",
       "      <th>year</th>\n",
       "      <th>name</th>\n",
       "      <th>date</th>\n",
       "    </tr>\n",
       "  </thead>\n",
       "  <tbody>\n",
       "    <tr>\n",
       "      <th>0</th>\n",
       "      <td>2009</td>\n",
       "      <td>Australian Grand Prix</td>\n",
       "      <td>2009-03-29</td>\n",
       "    </tr>\n",
       "    <tr>\n",
       "      <th>1</th>\n",
       "      <td>2009</td>\n",
       "      <td>Malaysian Grand Prix</td>\n",
       "      <td>2009-04-05</td>\n",
       "    </tr>\n",
       "    <tr>\n",
       "      <th>2</th>\n",
       "      <td>2009</td>\n",
       "      <td>Chinese Grand Prix</td>\n",
       "      <td>2009-04-19</td>\n",
       "    </tr>\n",
       "    <tr>\n",
       "      <th>3</th>\n",
       "      <td>2009</td>\n",
       "      <td>Bahrain Grand Prix</td>\n",
       "      <td>2009-04-26</td>\n",
       "    </tr>\n",
       "    <tr>\n",
       "      <th>4</th>\n",
       "      <td>2009</td>\n",
       "      <td>Spanish Grand Prix</td>\n",
       "      <td>2009-05-10</td>\n",
       "    </tr>\n",
       "    <tr>\n",
       "      <th>...</th>\n",
       "      <td>...</td>\n",
       "      <td>...</td>\n",
       "      <td>...</td>\n",
       "    </tr>\n",
       "    <tr>\n",
       "      <th>1120</th>\n",
       "      <td>2024</td>\n",
       "      <td>Mexico City Grand Prix</td>\n",
       "      <td>2024-10-27</td>\n",
       "    </tr>\n",
       "    <tr>\n",
       "      <th>1121</th>\n",
       "      <td>2024</td>\n",
       "      <td>São Paulo Grand Prix</td>\n",
       "      <td>2024-11-03</td>\n",
       "    </tr>\n",
       "    <tr>\n",
       "      <th>1122</th>\n",
       "      <td>2024</td>\n",
       "      <td>Las Vegas Grand Prix</td>\n",
       "      <td>2024-11-23</td>\n",
       "    </tr>\n",
       "    <tr>\n",
       "      <th>1123</th>\n",
       "      <td>2024</td>\n",
       "      <td>Qatar Grand Prix</td>\n",
       "      <td>2024-12-01</td>\n",
       "    </tr>\n",
       "    <tr>\n",
       "      <th>1124</th>\n",
       "      <td>2024</td>\n",
       "      <td>Abu Dhabi Grand Prix</td>\n",
       "      <td>2024-12-08</td>\n",
       "    </tr>\n",
       "  </tbody>\n",
       "</table>\n",
       "<p>1125 rows × 3 columns</p>\n",
       "</div>"
      ],
      "text/plain": [
       "      year                    name        date\n",
       "0     2009   Australian Grand Prix  2009-03-29\n",
       "1     2009    Malaysian Grand Prix  2009-04-05\n",
       "2     2009      Chinese Grand Prix  2009-04-19\n",
       "3     2009      Bahrain Grand Prix  2009-04-26\n",
       "4     2009      Spanish Grand Prix  2009-05-10\n",
       "...    ...                     ...         ...\n",
       "1120  2024  Mexico City Grand Prix  2024-10-27\n",
       "1121  2024    São Paulo Grand Prix  2024-11-03\n",
       "1122  2024    Las Vegas Grand Prix  2024-11-23\n",
       "1123  2024        Qatar Grand Prix  2024-12-01\n",
       "1124  2024    Abu Dhabi Grand Prix  2024-12-08\n",
       "\n",
       "[1125 rows x 3 columns]"
      ]
     },
     "execution_count": 14,
     "metadata": {},
     "output_type": "execute_result"
    }
   ],
   "source": [
    "import pandas as pd\n",
    "import os\n",
    "\n",
    "# Define relative path to the CSV file\n",
    "relative_path = os.path.join(\"archive\", \"races.csv\")\n",
    "\n",
    "# Read the CSV file using the relative path\n",
    "races = pd.read_csv(relative_path)[['year', 'name', 'date']]\n",
    "\n",
    "races\n"
   ]
  },
  {
   "cell_type": "markdown",
   "id": "55eb0445-0e44-44d2-be29-87ab6fe35796",
   "metadata": {},
   "source": [
    "### Data Preprocessing\n",
    "In this step we saved all the races from 2014 to 2024 into a csv file, and added additional columns for precise data training. Than we added necessary data to the table."
   ]
  },
  {
   "cell_type": "code",
   "execution_count": 17,
   "id": "7babdf93-c0d5-40d7-ad2b-e081742433de",
   "metadata": {},
   "outputs": [
    {
     "name": "stdout",
     "output_type": "stream",
     "text": [
      "File saved successfully!\n"
     ]
    },
    {
     "name": "stderr",
     "output_type": "stream",
     "text": [
      "/tmp/ipykernel_28681/2376998003.py:5: SettingWithCopyWarning: \n",
      "A value is trying to be set on a copy of a slice from a DataFrame.\n",
      "Try using .loc[row_indexer,col_indexer] = value instead\n",
      "\n",
      "See the caveats in the documentation: https://pandas.pydata.org/pandas-docs/stable/user_guide/indexing.html#returning-a-view-versus-a-copy\n",
      "  races_filtered['weather'] = ''\n",
      "/tmp/ipykernel_28681/2376998003.py:6: SettingWithCopyWarning: \n",
      "A value is trying to be set on a copy of a slice from a DataFrame.\n",
      "Try using .loc[row_indexer,col_indexer] = value instead\n",
      "\n",
      "See the caveats in the documentation: https://pandas.pydata.org/pandas-docs/stable/user_guide/indexing.html#returning-a-view-versus-a-copy\n",
      "  races_filtered['num_dnfs'] = ''\n",
      "/tmp/ipykernel_28681/2376998003.py:7: SettingWithCopyWarning: \n",
      "A value is trying to be set on a copy of a slice from a DataFrame.\n",
      "Try using .loc[row_indexer,col_indexer] = value instead\n",
      "\n",
      "See the caveats in the documentation: https://pandas.pydata.org/pandas-docs/stable/user_guide/indexing.html#returning-a-view-versus-a-copy\n",
      "  races_filtered['circuit_type'] = ''\n",
      "/tmp/ipykernel_28681/2376998003.py:8: SettingWithCopyWarning: \n",
      "A value is trying to be set on a copy of a slice from a DataFrame.\n",
      "Try using .loc[row_indexer,col_indexer] = value instead\n",
      "\n",
      "See the caveats in the documentation: https://pandas.pydata.org/pandas-docs/stable/user_guide/indexing.html#returning-a-view-versus-a-copy\n",
      "  races_filtered['phy_diff'] = ''\n"
     ]
    }
   ],
   "source": [
    "# Data Preprocessing\n",
    "\n",
    "races_filtered = races[races['year'] >= 2014]\n",
    "races_filtered['weather'] = ''\n",
    "races_filtered['num_dnfs'] = ''\n",
    "races_filtered['circuit_type'] = ''\n",
    "races_filtered['phy_diff'] = ''\n",
    "races_filtered['safety_car']=''\n",
    "\n",
    "# Save the filtered DataFrame to a new CSV file\n",
    "#races_filtered.to_csv(''/home/alex64a/F1-Lap-Time-Predictor/archive/races_filtered.csv'', index=False)\n",
    "\n",
    "print(\"File saved successfully!\")"
   ]
  },
  {
   "cell_type": "markdown",
   "id": "4a330e9b-01dc-45a7-acdf-b83f567dc738",
   "metadata": {},
   "source": []
  },
  {
   "cell_type": "code",
   "execution_count": null,
   "id": "12ed92a2",
   "metadata": {},
   "outputs": [],
   "source": []
  }
 ],
 "metadata": {
  "kernelspec": {
   "display_name": "Python 3 (ipykernel)",
   "language": "python",
   "name": "python3"
  },
  "language_info": {
   "codemirror_mode": {
    "name": "ipython",
    "version": 3
   },
   "file_extension": ".py",
   "mimetype": "text/x-python",
   "name": "python",
   "nbconvert_exporter": "python",
   "pygments_lexer": "ipython3",
   "version": "3.12.3"
  }
 },
 "nbformat": 4,
 "nbformat_minor": 5
}
